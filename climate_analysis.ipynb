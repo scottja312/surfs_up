{
 "cells": [
  {
   "cell_type": "markdown",
   "metadata": {},
   "source": [
    "# Import Dependencies."
   ]
  },
  {
   "cell_type": "code",
   "execution_count": 1,
   "metadata": {},
   "outputs": [],
   "source": [
    "%matplotlib inline\n",
    "from matplotlib import style\n",
    "style.use('fivethirtyeight')\n",
    "import matplotlib.pyplot as plt"
   ]
  },
  {
   "cell_type": "code",
   "execution_count": 2,
   "metadata": {},
   "outputs": [],
   "source": [
    "import numpy as np\n",
    "import pandas as pd"
   ]
  },
  {
   "cell_type": "code",
   "execution_count": 3,
   "metadata": {},
   "outputs": [],
   "source": [
    "import datetime as dt"
   ]
  },
  {
   "cell_type": "markdown",
   "metadata": {},
   "source": [
    "# Reflect Tables into SQLAlchemy ORM"
   ]
  },
  {
   "cell_type": "code",
   "execution_count": 4,
   "metadata": {},
   "outputs": [],
   "source": [
    "# Import Python SQL toolkit and Object Relational Mapper\n",
    "import sqlalchemy\n",
    "from sqlalchemy.ext.automap import automap_base\n",
    "from sqlalchemy.orm import Session\n",
    "from sqlalchemy import create_engine, func"
   ]
  },
  {
   "cell_type": "code",
   "execution_count": null,
   "metadata": {},
   "outputs": [],
   "source": [
    "engine = create_engine(\"sqlite:///hawaii.sqlite\")"
   ]
  },
  {
   "cell_type": "code",
   "execution_count": null,
   "metadata": {},
   "outputs": [],
   "source": [
    "# reflect an existing database into a new model\n",
    "Base = automap_base()\n",
    "\n",
    "# reflect the tables\n",
    "Base.prepare(engine, reflect=True)"
   ]
  },
  {
   "cell_type": "code",
   "execution_count": null,
   "metadata": {},
   "outputs": [],
   "source": [
    "# We can view all of the classes that automap found\n",
    "# Note: outcome keys of this code is (measurement, station)\n",
    "Base.classes.keys()"
   ]
  },
  {
   "cell_type": "code",
   "execution_count": null,
   "metadata": {},
   "outputs": [],
   "source": [
    "# Save references to each table\n",
    "Measurement = Base.classes.measurement\n",
    "Station = Base.classes.station"
   ]
  },
  {
   "cell_type": "code",
   "execution_count": null,
   "metadata": {},
   "outputs": [],
   "source": [
    "# Create our session (link) from Python to the DB\n",
    "session = Session(engine)"
   ]
  },
  {
   "cell_type": "markdown",
   "metadata": {},
   "source": [
    "## Retrieve Precipitation Data"
   ]
  },
  {
   "cell_type": "code",
   "execution_count": null,
   "metadata": {},
   "outputs": [],
   "source": [
    "# Design a query to retrieve the last 12 months of precipitation data and plot the results. \n",
    "# Starting from the last data point in the database (Aug 23, 2017). \n",
    "\n",
    "# Note: this is used as a starting point of analyzing a \n",
    "# full year of precipitation data.\n",
    "# Calculate the date one year from the last date in data set.\n",
    "prev_year = dt.date(2017, 8, 23) - dt.timedelta(days=365)"
   ]
  },
  {
   "cell_type": "code",
   "execution_count": null,
   "metadata": {},
   "outputs": [],
   "source": [
    "# Retrieve the precipitation score. \n",
    "\n",
    "# 1. Create a variable to store the results of the query. \n",
    "results = []\n",
    "\n",
    "# 2. To only see the most recent data, filter out the data that is older\n",
    "# than a year from the last record date. \n",
    "# 2a. Add the filter() function to the existing query.\n",
    "# 2b. Add .all() to the end of the existing query to extract all results\n",
    "# and put them in a list. \n",
    "\n",
    "# Perform a query to retrieve the data and precipitation score\n",
    "results = session.query(Measurement.date, Measurement.prcp).filter(Measurement.date >= prev_year).all()\n",
    "\n",
    "# 3. Check results. \n",
    "print(results)"
   ]
  },
  {
   "cell_type": "markdown",
   "metadata": {},
   "source": [
    "# Exploratory Climate Analysis"
   ]
  },
  {
   "cell_type": "code",
   "execution_count": null,
   "metadata": {},
   "outputs": [],
   "source": [
    "# Save the query results as a Pandas DataFrame. and set the index to the date column.\n",
    "df = pd.DataFrame(results, columns=['date','precipitation'])\n",
    "\n",
    "# Check df without date set as index.\n",
    "#print(df)\n",
    "\n",
    "# Set the index to the date column.\n",
    "df.set_index(df['date'], inplace=True)\n",
    "\n",
    "# Check df with date set as index.\n",
    "#print(df)\n",
    "\n",
    "# Using data as index shows duplicate date columns; \n",
    "# set df to print without index. \n",
    "print(df.to_string(index=False))"
   ]
  },
  {
   "cell_type": "code",
   "execution_count": null,
   "metadata": {},
   "outputs": [],
   "source": [
    "# Sort the dataframe by date.\n",
    "# Note: The goal is to create a plot of precipitation scores in chronological order,\n",
    "# to track if the weather trend will be feasible for the investment.\n",
    "df = df.sort_index()\n",
    "\n",
    "# Check list to ensure dates are in chronological order; print without index.\n",
    "print(df.to_string(index=False))"
   ]
  },
  {
   "cell_type": "code",
   "execution_count": null,
   "metadata": {},
   "outputs": [],
   "source": [
    "# Use Pandas Plotting with Matplotlib to plot the data.\n",
    "# Note: this graph shows the total precipitation per day.\n",
    "df.plot()"
   ]
  },
  {
   "cell_type": "code",
   "execution_count": null,
   "metadata": {},
   "outputs": [],
   "source": [
    "# Use Pandas to calculate the summary statistics for the precipitation data\n",
    "# 1. Calculate the mean, minimum, maximum, stddev and percentiles.\n",
    "# Note: the \"count\" is the number of times precipitation was observed. \n",
    "df.describe()"
   ]
  },
  {
   "cell_type": "markdown",
   "metadata": {},
   "source": [
    "## Station Analysis"
   ]
  },
  {
   "cell_type": "code",
   "execution_count": null,
   "metadata": {},
   "outputs": [],
   "source": [
    "# How many stations are available in this dataset?\n",
    "# Note: write a query to get the number of stations \n",
    "# that are collecting precipitation data (returns 9)\n",
    "session.query(func.count(Station.station)).all()\n"
   ]
  },
  {
   "cell_type": "code",
   "execution_count": null,
   "metadata": {},
   "outputs": [],
   "source": [
    "# What are the most active stations?\n",
    "# Note: it's important to know which stations have the most\n",
    "# precipitation recordings.\n",
    "\n",
    "# 1. Write beginnining query.\n",
    "# session.query(Measurement.station, func.count(Measurement.station))\n",
    "\n",
    "\n",
    "# 2. To narrow down the data by station name, add group_by()\n",
    "# to the query code. \n",
    "\n",
    "# session.query(Measurement.station, func.count(Measurement.station)).\\group_by(Measurement.station)\n",
    "\n",
    "# 3. List the stations and the counts in descending order.\n",
    "# Note: Update the code with order_by(func.count(Measurement.station).desc()).\n",
    "\n",
    "# session.query(Measurement.station, func.count(Measurement.station)).\\\n",
    "# group_by(Measurement.station).order_by(func.count(Measurement.station).desc())\n",
    "\n",
    "\n",
    "# 4. Add .all() function to return all the results of the query.\n",
    "session.query(Measurement.station, func.count(Measurement.station)).\\\n",
    "group_by(Measurement.station).order_by(func.count(Measurement.station).desc()).all()\n",
    "\n",
    "# Note: the left column is the station ID, right column is for precipitation counts \n",
    "# for each station. According to the data, the most active station\n",
    "# is USC00519281 (2772 counts).\n"
   ]
  },
  {
   "cell_type": "markdown",
   "metadata": {},
   "source": [
    "## Temperature Analysis"
   ]
  },
  {
   "cell_type": "code",
   "execution_count": null,
   "metadata": {},
   "outputs": [],
   "source": [
    "# Using the station ID from the previous query, calculate the lowest temperature recorded, \n",
    "# highest temperature recorded, and average temperature most active station?\n",
    "\n",
    "# 1. Minimum, maximum, average temperatures coded using the following\n",
    "# functions: func.min, func.max, func.avg.\n",
    "\n",
    "# session.query(func.min(Measurement.tobs), func.max(Measurement.tobs), func.avg(Measurement.tobs))\n",
    "\n",
    "# 2. Filter using the most active stations (USC00519281)\n",
    "\n",
    "# session.query(func.min(Measurement.tobs), func.max(Measurement.tobs), func.avg(Measurement.tobs)).\\\n",
    "# filter(Measurement.station == 'USC00519281')\n",
    "\n",
    "# 3. Return final query results using .all() function.\n",
    "session.query(func.min(Measurement.tobs), func.max(Measurement.tobs), func.avg(Measurement.tobs)).\\\n",
    "filter(Measurement.station == 'USC00519281').all()\n",
    "\n",
    "# Note: Minimum temp (54.0), Maximum temp (85.0), Avg temp (71.7)"
   ]
  },
  {
   "cell_type": "code",
   "execution_count": null,
   "metadata": {},
   "outputs": [],
   "source": [
    "# Choose the station with the highest number of temperature observations.\n",
    "# Note: station is same as the one for precipitation recordings\n",
    "# station ID: USC00519281\n",
    "\n",
    "\n",
    "# 1. Query the last 12 months of temperature observation data for this station.\n",
    "# session.query(Measurement.tobs)\n",
    "\n",
    "# 1a. Filter out all the stations except USC00519281.\n",
    "# results = session.query(Measurement.tobs).\\\n",
    "# filter(Measurement.station == 'USC00519281')\n",
    "\n",
    "# 1b. Filter data to consider only the most recent year, then add\n",
    "# .all() function to save our results as a list. \n",
    "# Print results to check data. \n",
    "\n",
    "results = session.query(Measurement.tobs).\\\n",
    "filter(Measurement.station == 'USC00519281').\\\n",
    "filter(Measurement.date >= prev_year).all()\n",
    "print(results)"
   ]
  },
  {
   "cell_type": "markdown",
   "metadata": {},
   "source": [
    "### Convert the Temperature Observation Results to a DataFrame."
   ]
  },
  {
   "cell_type": "code",
   "execution_count": null,
   "metadata": {},
   "outputs": [],
   "source": [
    "# 1. Put data into a DataFrame for easier reading.\n",
    "df = pd.DataFrame(results, columns=['tobs'])\n",
    "#print(df)\n",
    "\n",
    "# 2. Print with removed index column.\n",
    "print(df.to_string(index=False))"
   ]
  },
  {
   "cell_type": "markdown",
   "metadata": {},
   "source": [
    "### Plot the Temperature Observations"
   ]
  },
  {
   "cell_type": "code",
   "execution_count": null,
   "metadata": {},
   "outputs": [],
   "source": [
    "# 2. Plot the results as a histogram.\n",
    "# Note: a histogram is a graph made up of a range of data that\n",
    "# is separated into different bins. When creating a histogram\n",
    "# you need to determine how many bins are needed (ideal is 5-20 bins).\n",
    "# A \"good fit\" of the histogram represents the data well and highlights\n",
    "# areas where there is a lot of dat and areas where there isn't a \n",
    "# lot of data.\n",
    "\n",
    "# 2a. Divide temperature observations into 12 different bins.\n",
    "df.plot.hist(bins=12)\n",
    "plt.tight_layout()\n",
    "\n",
    "# Note: from the plot, we notice that the majority of observed\n",
    "# temperatures are over 67 degrees. To the right. counting the \n",
    "# bins, there is about 325 days where the temp was over 67 degrees. "
   ]
  },
  {
   "cell_type": "code",
   "execution_count": null,
   "metadata": {},
   "outputs": [],
   "source": [
    "# Skill Drill: Adjust the number of bins. \n",
    "\n",
    "# Notes on number of bins as 5:\n",
    "\n",
    "# Notes on number of bins as 20:\n"
   ]
  },
  {
   "cell_type": "markdown",
   "metadata": {},
   "source": [
    "## Set Up Flask and Create a Route"
   ]
  },
  {
   "cell_type": "code",
   "execution_count": null,
   "metadata": {},
   "outputs": [],
   "source": [
    "# Note: we are going to create five routes for our investors to\n",
    "# clearly navigate to the analysis they want to see:\n",
    "# 1. Welcome\n",
    "# 2. Precipitation\n",
    "# 3. Stations\n",
    "# 4. Monthly Temperature\n",
    "# 5. Statistics\n",
    "\n",
    "##############################\n",
    "# Steps to Take:\n",
    "##############################\n",
    "\n",
    "# 1. Install Flask.\n",
    "# 2. Create a new Python file.\n",
    "# 3. Import the Flask dependency.\n",
    "# 4. Create a new Flask app instance.\n",
    "# 5. Create Flask routes.\n",
    "# 6. Run a Flask app. "
   ]
  },
  {
   "cell_type": "code",
   "execution_count": null,
   "metadata": {},
   "outputs": [],
   "source": [
    "# Skill Drill:\n",
    "#Write a function called `calc_temps` that will accept start date and end date in the format '%Y-%m-%d' \n",
    "# and return the minimum, average, and maximum temperatures for that range of dates\n",
    "def calc_temp(start_date, end_date):\n",
    "    return session.query(func.min(Measurement.tobs), func.avg(Measurement.tobs), func.max(Measurement.tobs)).\\\n",
    "        filter(Measurement.date >= start_date).filter(Measurement.date <= end_date).all()\n",
    "print(calc_temp('2012-02-28', '2012-03-05'))"
   ]
  },
  {
   "cell_type": "markdown",
   "metadata": {},
   "source": [
    "# Challenge"
   ]
  },
  {
   "cell_type": "code",
   "execution_count": null,
   "metadata": {},
   "outputs": [],
   "source": []
  }
 ],
 "metadata": {
  "kernelspec": {
   "display_name": "Python 3",
   "language": "python",
   "name": "python3"
  },
  "language_info": {
   "codemirror_mode": {
    "name": "ipython",
    "version": 3
   },
   "file_extension": ".py",
   "mimetype": "text/x-python",
   "name": "python",
   "nbconvert_exporter": "python",
   "pygments_lexer": "ipython3",
   "version": "3.7.6"
  }
 },
 "nbformat": 4,
 "nbformat_minor": 2
}
